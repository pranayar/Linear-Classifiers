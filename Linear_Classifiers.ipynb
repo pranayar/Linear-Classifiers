{
  "nbformat": 4,
  "nbformat_minor": 0,
  "metadata": {
    "colab": {
      "provenance": [],
      "authorship_tag": "ABX9TyMyQ1QOT4FAm+Zdu8ZYBs42",
      "include_colab_link": true
    },
    "kernelspec": {
      "name": "python3",
      "display_name": "Python 3"
    },
    "language_info": {
      "name": "python"
    }
  },
  "cells": [
    {
      "cell_type": "markdown",
      "metadata": {
        "id": "view-in-github",
        "colab_type": "text"
      },
      "source": [
        "<a href=\"https://colab.research.google.com/github/pranayar/Linear-Classifiers/blob/main/Linear_Classifiers.ipynb\" target=\"_parent\"><img src=\"https://colab.research.google.com/assets/colab-badge.svg\" alt=\"Open In Colab\"/></a>"
      ]
    },
    {
      "cell_type": "code",
      "execution_count": 17,
      "metadata": {
        "colab": {
          "base_uri": "https://localhost:8080/"
        },
        "id": "BhjG1x91H5LU",
        "outputId": "5fdc976d-1f10-4ece-b8aa-a4f90941601e"
      },
      "outputs": [
        {
          "output_type": "stream",
          "name": "stdout",
          "text": [
            "Probability of passing the exam for a student who studied for 96 hours: 1.0\n",
            "Probability of passing the exam for a student who studied for 20 hours: 0.0\n"
          ]
        }
      ],
      "source": [
        "# Logistic Regression\n",
        "from sklearn.linear_model import LogisticRegression\n",
        "\n",
        "# X is an array of the number of hours studied\n",
        "# y is an array of the pass/fail labels (0 or 1)\n",
        "X = [[5], [10], [15], [20], [25], [30], [35], [40], [45], [50],\n",
        "     [55], [60], [65], [70], [75], [80], [85], [90], [95], [100]]\n",
        "y = [0, 0, 0, 0, 0, 0, 0, 0, 0, 0,     1, 1, 1, 1, 1, 1, 1, 1, 1, 1]\n",
        "\n",
        "# Create and fit the model\n",
        "model = LogisticRegression()\n",
        "model.fit(X, y)\n",
        "\n",
        "# Predict the probability of passing the exam for a student who studied for 96 hours\n",
        "probability = model.predict_proba([[96]])[0][1]\n",
        "print(\"Probability of passing the exam for a student who studied for 96 hours:\",round(probability,3))  \n",
        "\n",
        "\n",
        "# Predict the probability of passing the exam for a student who studied for 20 hours\n",
        "probability = model.predict_proba([[20]])[0][1]\n",
        "print(\"Probability of passing the exam for a student who studied for 20 hours:\",round(probability,3))  \n"
      ]
    },
    {
      "cell_type": "code",
      "source": [
        "# Linear Discriminant Analysis (LDA)\n",
        "from sklearn.discriminant_analysis import LinearDiscriminantAnalysis\n",
        "\n",
        "# X is an array of the number of hours studied\n",
        "# y is an array of the pass/fail labels (0 or 1)\n",
        "X = [[5, 8], [10, 12], [15, 18], [20, 22], [25, 28], [30, 32],\n",
        "     [35, 38], [40, 42], [45, 48], [50, 52],\n",
        "     [55, 58], [60, 62], [65, 68], [70, 72], [75, 78], [80, 82],\n",
        "     [85, 88], [90, 92], [95, 98], [100, 102]]\n",
        "y = [0, 0, 0, 0, 0, 0,     1, 1, 1, 1,     1, 1, 1, 1, 1, 1,     2, 2, 2, 2]\n",
        "\n",
        "# Create and fit the model\n",
        "model = LinearDiscriminantAnalysis()\n",
        "model.fit(X, y)\n",
        "\n",
        "# Predict the label for a new sample [35,38]\n",
        "prediction = model.predict([[35, 38]])[0]\n",
        "print(\"Prediction:\",prediction)  "
      ],
      "metadata": {
        "colab": {
          "base_uri": "https://localhost:8080/"
        },
        "id": "SUhafSz4KQyo",
        "outputId": "eac7399d-85e4-4588-c4cd-8a86313569a6"
      },
      "execution_count": 33,
      "outputs": [
        {
          "output_type": "stream",
          "name": "stdout",
          "text": [
            "Prediction: 1\n"
          ]
        }
      ]
    },
    {
      "cell_type": "code",
      "source": [
        "# SVM\n",
        "from sklearn.svm import SVC\n",
        "\n",
        "# X is an array of the number of hours studied\n",
        "# y is an array of the pass/fail labels (0 or 1)\n",
        "X = [[5], [10], [15], [20], [25], [30], [35], [40], [45], [50],\n",
        "     [55], [60], [65], [70], [75], [80], [85], [90], [95], [100]]\n",
        "y = [0, 0, 0, 0, 0, 0, 0, 0, 0, 0,     1, 1, 1, 1, 1, 1, 1, 1, 1, 1]\n",
        "\n",
        "# Create and fit the model\n",
        "model = SVC()\n",
        "model.fit(X, y)\n",
        "\n",
        "# Predict the label for a new sample\n",
        "prediction = model.predict([[95]])[0]\n",
        "print(\"Probability of passing the exam for a student who studied for 95 hours:\",prediction)\n",
        "\n",
        "prediction = model.predict([[30]])[0]\n",
        "print(\"Probability of passing the exam for a student who studied for 30 hours:\",prediction)"
      ],
      "metadata": {
        "colab": {
          "base_uri": "https://localhost:8080/"
        },
        "id": "1rkZzShfScaa",
        "outputId": "d57fb800-4d42-469f-9514-a1397413a6a2"
      },
      "execution_count": 40,
      "outputs": [
        {
          "output_type": "stream",
          "name": "stdout",
          "text": [
            "Probability of passing the exam for a student who studied for 95 hours: 1\n",
            "Probability of passing the exam for a student who studied for 30 hours: 0\n"
          ]
        }
      ]
    },
    {
      "cell_type": "code",
      "source": [
        "# Perceptron\n",
        "\n",
        "from sklearn.linear_model import Perceptron\n",
        "\n",
        "# X is an array of features\n",
        "# y is an array of labels\n",
        "X = [[5, 8], [10, 12], [15, 18], [20, 22], [25, 28], [30, 32],\n",
        "     [35, 38], [40, 42], [45, 48], [50, 52],\n",
        "     [55, 58], [60, 62], [65, 68], [70, 72], [75, 78], [80, 82],\n",
        "     [85, 88], [90, 92], [95, 98], [100, 102]]\n",
        "y = [0, 0, 0, 0, 0, 0,     1, 1, 1, 1,     1, 1, 1, 1, 1, 1,     2, 2, 2, 2]\n",
        "\n",
        "# Create and fit the model\n",
        "model = Perceptron()\n",
        "model.fit(X, y)\n",
        "\n",
        "# Predict the label for a new sample\n",
        "prediction = model.predict([[35, 38]])[0]\n",
        "print(\"Prediction:\",prediction)  \n"
      ],
      "metadata": {
        "colab": {
          "base_uri": "https://localhost:8080/"
        },
        "id": "15lmXxUVTbEM",
        "outputId": "21684f5f-cb7a-4027-ec5a-1cbf6d63890d"
      },
      "execution_count": 50,
      "outputs": [
        {
          "output_type": "stream",
          "name": "stdout",
          "text": [
            "Prediction: 2\n"
          ]
        }
      ]
    }
  ]
}